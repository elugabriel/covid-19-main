{
 "cells": [
  {
   "cell_type": "markdown",
   "id": "7089b506-e9a2-4eb1-8baf-a45f1233b507",
   "metadata": {},
   "source": [
    "## Importing the Basic libraries"
   ]
  },
  {
   "cell_type": "code",
   "execution_count": 1,
   "id": "27fdfe99",
   "metadata": {},
   "outputs": [],
   "source": [
    "import numpy as np\n",
    "import pandas as pd\n",
    "import matplotlib.pyplot as plt\n",
    "import urllib.request\n",
    "from pprint import pprint\n",
    "from html.parser import HTMLParser\n",
    "import requests"
   ]
  },
  {
   "cell_type": "markdown",
   "id": "2e7a4ce3-fbbb-4260-a1a2-fa58ed005199",
   "metadata": {},
   "source": [
    "## Web scrapping, Extracting the Dataset From the website"
   ]
  },
  {
   "cell_type": "code",
   "execution_count": 2,
   "id": "44442e81",
   "metadata": {},
   "outputs": [],
   "source": [
    "from bs4 import BeautifulSoup as bs "
   ]
  },
  {
   "cell_type": "code",
   "execution_count": 3,
   "id": "4299c7eb",
   "metadata": {},
   "outputs": [],
   "source": [
    "r = requests.get('https://covid19.ncdc.gov.ng') "
   ]
  },
  {
   "cell_type": "code",
   "execution_count": 4,
   "id": "b5d8aa72",
   "metadata": {},
   "outputs": [],
   "source": [
    "soup = bs(r.content)"
   ]
  },
  {
   "cell_type": "code",
   "execution_count": 13,
   "id": "15231607",
   "metadata": {},
   "outputs": [
    {
     "name": "stdout",
     "output_type": "stream",
     "text": [
      "<!DOCTYPE html>\n",
      "<html>\n",
      " <head>\n",
      "  <title>\n",
      "   Web App - Unavailable\n",
      "  </title>\n",
      "  <style type=\"text/css\">\n",
      "   html {\n",
      "            height: 100%;\n",
      "            width: 100%;\n",
      "        }\n",
      "\n",
      "        #feature {\n",
      "            width: 960px;\n",
      "            margin: 95px auto 0 auto;\n",
      "            overflow: auto;\n",
      "        }\n",
      "\n",
      "        #content {\n",
      "            font-family: \"Segoe UI\";\n",
      "            font-weight: normal;\n",
      "            font-size: 22px;\n",
      "            color: #ffffff;\n",
      "            float: left;\n",
      "            width: 460px;\n",
      "            margin-top: 68px;\n",
      "            margin-left: 0px;\n",
      "            vertical-align: middle;\n",
      "        }\n",
      "\n",
      "            #content h1 {\n",
      "                font-family: \"Segoe UI Light\";\n",
      "                color: #ffffff;\n",
      "                font-weight: normal;\n",
      "                font-size: 60px;\n",
      "                line-height: 48pt;\n",
      "                width: 800px;\n",
      "            }\n",
      "\n",
      "        p a, p a:visited, p a:active, p a:hover {\n",
      "            color: #ffffff;\n",
      "        }\n",
      "\n",
      "        #content a.button {\n",
      "            background: #0DBCF2;\n",
      "            border: 1px solid #FFFFFF;\n",
      "            color: #FFFFFF;\n",
      "            display: inline-block;\n",
      "            font-family: Segoe UI;\n",
      "            font-size: 24px;\n",
      "            line-height: 46px;\n",
      "            margin-top: 10px;\n",
      "            padding: 0 15px 3px;\n",
      "            text-decoration: none;\n",
      "        }\n",
      "\n",
      "            #content a.button img {\n",
      "                float: right;\n",
      "                padding: 10px 0 0 15px;\n",
      "            }\n",
      "\n",
      "            #content a.button:hover {\n",
      "                background: #1C75BC;\n",
      "            }\n",
      "  </style>\n",
      " </head>\n",
      " <body bgcolor=\"#00abec\">\n",
      "  <div id=\"feature\">\n",
      "   <div id=\"content\">\n",
      "    <h1 id=\"unavailable\">\n",
      "     Error 403 - This web app is stopped.\n",
      "    </h1>\n",
      "    <p id=\"tryAgain\">\n",
      "     The web app you have attempted to reach is currently stopped and does not accept any requests. Please try to reload the page or visit it again soon.\n",
      "    </p>\n",
      "    <p id=\"toAdmin\">\n",
      "     If you are the web app administrator, please find the common 403 error scenarios and resolution\n",
      "     <a href=\"https://go.microsoft.com/fwlink/?linkid=2095007\" target=\"_blank\">\n",
      "      here\n",
      "     </a>\n",
      "     . For further troubleshooting tools and recommendations, please visit\n",
      "     <a href=\"https://portal.azure.com/\">\n",
      "      Azure Portal\n",
      "     </a>\n",
      "     .\n",
      "    </p>\n",
      "   </div>\n",
      "  </div>\n",
      " </body>\n",
      "</html>\n",
      "\n"
     ]
    }
   ],
   "source": [
    "print(soup.prettify())"
   ]
  },
  {
   "cell_type": "code",
   "execution_count": 12,
   "id": "76ed2e0f",
   "metadata": {},
   "outputs": [
    {
     "ename": "IndexError",
     "evalue": "list index out of range",
     "output_type": "error",
     "traceback": [
      "\u001b[0;31m---------------------------------------------------------------------------\u001b[0m",
      "\u001b[0;31mIndexError\u001b[0m                                Traceback (most recent call last)",
      "\u001b[0;32m/tmp/ipykernel_5655/2104007576.py\u001b[0m in \u001b[0;36m<module>\u001b[0;34m\u001b[0m\n\u001b[0;32m----> 1\u001b[0;31m \u001b[0mtable\u001b[0m \u001b[0;34m=\u001b[0m \u001b[0msoup\u001b[0m\u001b[0;34m.\u001b[0m\u001b[0mselect\u001b[0m\u001b[0;34m(\u001b[0m\u001b[0;34m'table#custom1'\u001b[0m\u001b[0;34m)\u001b[0m\u001b[0;34m[\u001b[0m\u001b[0;36m0\u001b[0m\u001b[0;34m]\u001b[0m\u001b[0;34m\u001b[0m\u001b[0;34m\u001b[0m\u001b[0m\n\u001b[0m",
      "\u001b[0;31mIndexError\u001b[0m: list index out of range"
     ]
    }
   ],
   "source": [
    "table = soup.select('table#custom1')[0]"
   ]
  },
  {
   "cell_type": "code",
   "execution_count": 7,
   "id": "ee96a2ea",
   "metadata": {},
   "outputs": [
    {
     "ename": "NameError",
     "evalue": "name 'table' is not defined",
     "output_type": "error",
     "traceback": [
      "\u001b[0;31m---------------------------------------------------------------------------\u001b[0m",
      "\u001b[0;31mNameError\u001b[0m                                 Traceback (most recent call last)",
      "\u001b[0;32m/tmp/ipykernel_5655/3903285654.py\u001b[0m in \u001b[0;36m<module>\u001b[0;34m\u001b[0m\n\u001b[0;32m----> 1\u001b[0;31m \u001b[0mcolumns\u001b[0m \u001b[0;34m=\u001b[0m \u001b[0mtable\u001b[0m\u001b[0;34m.\u001b[0m\u001b[0mfind\u001b[0m\u001b[0;34m(\u001b[0m\u001b[0;34m'thead'\u001b[0m\u001b[0;34m)\u001b[0m\u001b[0;34m.\u001b[0m\u001b[0mfind_all\u001b[0m\u001b[0;34m(\u001b[0m\u001b[0;34m'th'\u001b[0m\u001b[0;34m)\u001b[0m\u001b[0;34m\u001b[0m\u001b[0;34m\u001b[0m\u001b[0m\n\u001b[0m",
      "\u001b[0;31mNameError\u001b[0m: name 'table' is not defined"
     ]
    }
   ],
   "source": [
    "columns = table.find('thead').find_all('th') "
   ]
  },
  {
   "cell_type": "code",
   "execution_count": 8,
   "id": "fe5106a9",
   "metadata": {},
   "outputs": [
    {
     "ename": "NameError",
     "evalue": "name 'columns' is not defined",
     "output_type": "error",
     "traceback": [
      "\u001b[0;31m---------------------------------------------------------------------------\u001b[0m",
      "\u001b[0;31mNameError\u001b[0m                                 Traceback (most recent call last)",
      "\u001b[0;32m/tmp/ipykernel_5655/3243880508.py\u001b[0m in \u001b[0;36m<module>\u001b[0;34m\u001b[0m\n\u001b[0;32m----> 1\u001b[0;31m \u001b[0mcolumns\u001b[0m\u001b[0;34m\u001b[0m\u001b[0;34m\u001b[0m\u001b[0m\n\u001b[0m",
      "\u001b[0;31mNameError\u001b[0m: name 'columns' is not defined"
     ]
    }
   ],
   "source": [
    "columns "
   ]
  },
  {
   "cell_type": "markdown",
   "id": "e6942e11-87b4-44fd-b738-8e5fcd7d0bbd",
   "metadata": {},
   "source": [
    " <script src=\"assets/js/jquery.min.js\"></script>\n",
    "    <script src=\"assets/js/bootstrap.min.js\"></script>\n",
    "    <script src=\"assets/js/theme.plugins.js\"></script>\n",
    "    <script src=\"assets/js/preloader.js\"></script>\n",
    "    <script src=\"assets/js/main.js\"></script>\n",
    "\n",
    "## Displaying the Extracted Table"
   ]
  },
  {
   "cell_type": "code",
   "execution_count": 9,
   "id": "cdbc7cc9",
   "metadata": {},
   "outputs": [
    {
     "data": {
      "text/html": [
       "<div>\n",
       "<style scoped>\n",
       "    .dataframe tbody tr th:only-of-type {\n",
       "        vertical-align: middle;\n",
       "    }\n",
       "\n",
       "    .dataframe tbody tr th {\n",
       "        vertical-align: top;\n",
       "    }\n",
       "\n",
       "    .dataframe thead th {\n",
       "        text-align: right;\n",
       "    }\n",
       "</style>\n",
       "<table border=\"1\" class=\"dataframe\">\n",
       "  <thead>\n",
       "    <tr style=\"text-align: right;\">\n",
       "      <th></th>\n",
       "      <th>States Affected</th>\n",
       "      <th>No. of Cases (Lab Confirmed)</th>\n",
       "      <th>No. of Cases (on admission)</th>\n",
       "      <th>No. Discharged</th>\n",
       "      <th>No. of Deaths</th>\n",
       "    </tr>\n",
       "  </thead>\n",
       "  <tbody>\n",
       "    <tr>\n",
       "      <th>0</th>\n",
       "      <td>Lagos</td>\n",
       "      <td>104157</td>\n",
       "      <td>1014</td>\n",
       "      <td>102372</td>\n",
       "      <td>771</td>\n",
       "    </tr>\n",
       "    <tr>\n",
       "      <th>1</th>\n",
       "      <td>FCT</td>\n",
       "      <td>29504</td>\n",
       "      <td>15</td>\n",
       "      <td>29240</td>\n",
       "      <td>249</td>\n",
       "    </tr>\n",
       "    <tr>\n",
       "      <th>2</th>\n",
       "      <td>Rivers</td>\n",
       "      <td>18093</td>\n",
       "      <td>44</td>\n",
       "      <td>17894</td>\n",
       "      <td>155</td>\n",
       "    </tr>\n",
       "    <tr>\n",
       "      <th>3</th>\n",
       "      <td>Kaduna</td>\n",
       "      <td>11615</td>\n",
       "      <td>12</td>\n",
       "      <td>11514</td>\n",
       "      <td>89</td>\n",
       "    </tr>\n",
       "    <tr>\n",
       "      <th>4</th>\n",
       "      <td>Oyo</td>\n",
       "      <td>10336</td>\n",
       "      <td>2</td>\n",
       "      <td>10132</td>\n",
       "      <td>202</td>\n",
       "    </tr>\n",
       "    <tr>\n",
       "      <th>5</th>\n",
       "      <td>Plateau</td>\n",
       "      <td>10331</td>\n",
       "      <td>4</td>\n",
       "      <td>10252</td>\n",
       "      <td>75</td>\n",
       "    </tr>\n",
       "    <tr>\n",
       "      <th>6</th>\n",
       "      <td>Edo</td>\n",
       "      <td>7927</td>\n",
       "      <td>4</td>\n",
       "      <td>7601</td>\n",
       "      <td>322</td>\n",
       "    </tr>\n",
       "    <tr>\n",
       "      <th>7</th>\n",
       "      <td>Ogun</td>\n",
       "      <td>5810</td>\n",
       "      <td>11</td>\n",
       "      <td>5717</td>\n",
       "      <td>82</td>\n",
       "    </tr>\n",
       "    <tr>\n",
       "      <th>8</th>\n",
       "      <td>Delta</td>\n",
       "      <td>5808</td>\n",
       "      <td>526</td>\n",
       "      <td>5170</td>\n",
       "      <td>112</td>\n",
       "    </tr>\n",
       "    <tr>\n",
       "      <th>9</th>\n",
       "      <td>Kano</td>\n",
       "      <td>5344</td>\n",
       "      <td>97</td>\n",
       "      <td>5120</td>\n",
       "      <td>127</td>\n",
       "    </tr>\n",
       "    <tr>\n",
       "      <th>10</th>\n",
       "      <td>Ondo</td>\n",
       "      <td>5173</td>\n",
       "      <td>315</td>\n",
       "      <td>4749</td>\n",
       "      <td>109</td>\n",
       "    </tr>\n",
       "    <tr>\n",
       "      <th>11</th>\n",
       "      <td>Akwa Ibom</td>\n",
       "      <td>5010</td>\n",
       "      <td>6</td>\n",
       "      <td>4960</td>\n",
       "      <td>44</td>\n",
       "    </tr>\n",
       "    <tr>\n",
       "      <th>12</th>\n",
       "      <td>Kwara</td>\n",
       "      <td>4691</td>\n",
       "      <td>452</td>\n",
       "      <td>4175</td>\n",
       "      <td>64</td>\n",
       "    </tr>\n",
       "    <tr>\n",
       "      <th>13</th>\n",
       "      <td>Gombe</td>\n",
       "      <td>3313</td>\n",
       "      <td>8</td>\n",
       "      <td>3239</td>\n",
       "      <td>66</td>\n",
       "    </tr>\n",
       "    <tr>\n",
       "      <th>14</th>\n",
       "      <td>Osun</td>\n",
       "      <td>3311</td>\n",
       "      <td>29</td>\n",
       "      <td>3190</td>\n",
       "      <td>92</td>\n",
       "    </tr>\n",
       "    <tr>\n",
       "      <th>15</th>\n",
       "      <td>Enugu</td>\n",
       "      <td>2952</td>\n",
       "      <td>13</td>\n",
       "      <td>2910</td>\n",
       "      <td>29</td>\n",
       "    </tr>\n",
       "    <tr>\n",
       "      <th>16</th>\n",
       "      <td>Anambra</td>\n",
       "      <td>2825</td>\n",
       "      <td>46</td>\n",
       "      <td>2760</td>\n",
       "      <td>19</td>\n",
       "    </tr>\n",
       "    <tr>\n",
       "      <th>17</th>\n",
       "      <td>Nasarawa</td>\n",
       "      <td>2800</td>\n",
       "      <td>416</td>\n",
       "      <td>2345</td>\n",
       "      <td>39</td>\n",
       "    </tr>\n",
       "    <tr>\n",
       "      <th>18</th>\n",
       "      <td>Imo</td>\n",
       "      <td>2691</td>\n",
       "      <td>3</td>\n",
       "      <td>2630</td>\n",
       "      <td>58</td>\n",
       "    </tr>\n",
       "    <tr>\n",
       "      <th>19</th>\n",
       "      <td>Ekiti</td>\n",
       "      <td>2466</td>\n",
       "      <td>2</td>\n",
       "      <td>2436</td>\n",
       "      <td>28</td>\n",
       "    </tr>\n",
       "    <tr>\n",
       "      <th>20</th>\n",
       "      <td>Katsina</td>\n",
       "      <td>2418</td>\n",
       "      <td>0</td>\n",
       "      <td>2381</td>\n",
       "      <td>37</td>\n",
       "    </tr>\n",
       "    <tr>\n",
       "      <th>21</th>\n",
       "      <td>Benue</td>\n",
       "      <td>2317</td>\n",
       "      <td>88</td>\n",
       "      <td>2204</td>\n",
       "      <td>25</td>\n",
       "    </tr>\n",
       "    <tr>\n",
       "      <th>22</th>\n",
       "      <td>Abia</td>\n",
       "      <td>2261</td>\n",
       "      <td>-1</td>\n",
       "      <td>2228</td>\n",
       "      <td>34</td>\n",
       "    </tr>\n",
       "    <tr>\n",
       "      <th>23</th>\n",
       "      <td>Ebonyi</td>\n",
       "      <td>2064</td>\n",
       "      <td>28</td>\n",
       "      <td>2004</td>\n",
       "      <td>32</td>\n",
       "    </tr>\n",
       "    <tr>\n",
       "      <th>24</th>\n",
       "      <td>Bauchi</td>\n",
       "      <td>2017</td>\n",
       "      <td>0</td>\n",
       "      <td>1993</td>\n",
       "      <td>24</td>\n",
       "    </tr>\n",
       "    <tr>\n",
       "      <th>25</th>\n",
       "      <td>Borno</td>\n",
       "      <td>1629</td>\n",
       "      <td>5</td>\n",
       "      <td>1580</td>\n",
       "      <td>44</td>\n",
       "    </tr>\n",
       "    <tr>\n",
       "      <th>26</th>\n",
       "      <td>Taraba</td>\n",
       "      <td>1492</td>\n",
       "      <td>52</td>\n",
       "      <td>1406</td>\n",
       "      <td>34</td>\n",
       "    </tr>\n",
       "    <tr>\n",
       "      <th>27</th>\n",
       "      <td>Bayelsa</td>\n",
       "      <td>1368</td>\n",
       "      <td>5</td>\n",
       "      <td>1335</td>\n",
       "      <td>28</td>\n",
       "    </tr>\n",
       "    <tr>\n",
       "      <th>28</th>\n",
       "      <td>Adamawa</td>\n",
       "      <td>1312</td>\n",
       "      <td>134</td>\n",
       "      <td>1140</td>\n",
       "      <td>38</td>\n",
       "    </tr>\n",
       "    <tr>\n",
       "      <th>29</th>\n",
       "      <td>Niger</td>\n",
       "      <td>1183</td>\n",
       "      <td>165</td>\n",
       "      <td>998</td>\n",
       "      <td>20</td>\n",
       "    </tr>\n",
       "    <tr>\n",
       "      <th>30</th>\n",
       "      <td>Cross River</td>\n",
       "      <td>931</td>\n",
       "      <td>12</td>\n",
       "      <td>894</td>\n",
       "      <td>25</td>\n",
       "    </tr>\n",
       "    <tr>\n",
       "      <th>31</th>\n",
       "      <td>Sokoto</td>\n",
       "      <td>822</td>\n",
       "      <td>0</td>\n",
       "      <td>794</td>\n",
       "      <td>28</td>\n",
       "    </tr>\n",
       "    <tr>\n",
       "      <th>32</th>\n",
       "      <td>Jigawa</td>\n",
       "      <td>669</td>\n",
       "      <td>2</td>\n",
       "      <td>649</td>\n",
       "      <td>18</td>\n",
       "    </tr>\n",
       "    <tr>\n",
       "      <th>33</th>\n",
       "      <td>Yobe</td>\n",
       "      <td>638</td>\n",
       "      <td>4</td>\n",
       "      <td>625</td>\n",
       "      <td>9</td>\n",
       "    </tr>\n",
       "    <tr>\n",
       "      <th>34</th>\n",
       "      <td>Kebbi</td>\n",
       "      <td>480</td>\n",
       "      <td>10</td>\n",
       "      <td>454</td>\n",
       "      <td>16</td>\n",
       "    </tr>\n",
       "    <tr>\n",
       "      <th>35</th>\n",
       "      <td>Zamfara</td>\n",
       "      <td>375</td>\n",
       "      <td>0</td>\n",
       "      <td>366</td>\n",
       "      <td>9</td>\n",
       "    </tr>\n",
       "    <tr>\n",
       "      <th>36</th>\n",
       "      <td>Kogi</td>\n",
       "      <td>5</td>\n",
       "      <td>0</td>\n",
       "      <td>3</td>\n",
       "      <td>2</td>\n",
       "    </tr>\n",
       "  </tbody>\n",
       "</table>\n",
       "</div>"
      ],
      "text/plain": [
       "   States Affected  No. of Cases (Lab Confirmed)  No. of Cases (on admission)  \\\n",
       "0            Lagos                        104157                         1014   \n",
       "1              FCT                         29504                           15   \n",
       "2           Rivers                         18093                           44   \n",
       "3           Kaduna                         11615                           12   \n",
       "4              Oyo                         10336                            2   \n",
       "5          Plateau                         10331                            4   \n",
       "6              Edo                          7927                            4   \n",
       "7             Ogun                          5810                           11   \n",
       "8            Delta                          5808                          526   \n",
       "9             Kano                          5344                           97   \n",
       "10            Ondo                          5173                          315   \n",
       "11       Akwa Ibom                          5010                            6   \n",
       "12           Kwara                          4691                          452   \n",
       "13           Gombe                          3313                            8   \n",
       "14            Osun                          3311                           29   \n",
       "15           Enugu                          2952                           13   \n",
       "16         Anambra                          2825                           46   \n",
       "17        Nasarawa                          2800                          416   \n",
       "18             Imo                          2691                            3   \n",
       "19           Ekiti                          2466                            2   \n",
       "20         Katsina                          2418                            0   \n",
       "21           Benue                          2317                           88   \n",
       "22            Abia                          2261                           -1   \n",
       "23          Ebonyi                          2064                           28   \n",
       "24          Bauchi                          2017                            0   \n",
       "25           Borno                          1629                            5   \n",
       "26          Taraba                          1492                           52   \n",
       "27         Bayelsa                          1368                            5   \n",
       "28         Adamawa                          1312                          134   \n",
       "29           Niger                          1183                          165   \n",
       "30     Cross River                           931                           12   \n",
       "31          Sokoto                           822                            0   \n",
       "32          Jigawa                           669                            2   \n",
       "33            Yobe                           638                            4   \n",
       "34           Kebbi                           480                           10   \n",
       "35         Zamfara                           375                            0   \n",
       "36            Kogi                             5                            0   \n",
       "\n",
       "    No. Discharged  No. of Deaths  \n",
       "0           102372            771  \n",
       "1            29240            249  \n",
       "2            17894            155  \n",
       "3            11514             89  \n",
       "4            10132            202  \n",
       "5            10252             75  \n",
       "6             7601            322  \n",
       "7             5717             82  \n",
       "8             5170            112  \n",
       "9             5120            127  \n",
       "10            4749            109  \n",
       "11            4960             44  \n",
       "12            4175             64  \n",
       "13            3239             66  \n",
       "14            3190             92  \n",
       "15            2910             29  \n",
       "16            2760             19  \n",
       "17            2345             39  \n",
       "18            2630             58  \n",
       "19            2436             28  \n",
       "20            2381             37  \n",
       "21            2204             25  \n",
       "22            2228             34  \n",
       "23            2004             32  \n",
       "24            1993             24  \n",
       "25            1580             44  \n",
       "26            1406             34  \n",
       "27            1335             28  \n",
       "28            1140             38  \n",
       "29             998             20  \n",
       "30             894             25  \n",
       "31             794             28  \n",
       "32             649             18  \n",
       "33             625              9  \n",
       "34             454             16  \n",
       "35             366              9  \n",
       "36               3              2  "
      ]
     },
     "execution_count": 9,
     "metadata": {},
     "output_type": "execute_result"
    }
   ],
   "source": [
    "\n",
    "table_df = pd.read_html(str(table))[0] \n",
    "\n",
    "table_df"
   ]
  },
  {
   "cell_type": "markdown",
   "id": "cb075109-3e79-4939-ac90-331c1bc9375d",
   "metadata": {},
   "source": [
    " <script src=\"assets/js/jquery.min.js\"></script>\n",
    "    <script src=\"assets/js/bootstrap.min.js\"></script>\n",
    "    <script src=\"assets/js/theme.plugins.js\"></script>\n",
    "    <script src=\"assets/js/preloader.js\"></script>\n",
    "    <script src=\"assets/js/main.js\"></script>\n",
    "\n",
    "## Save the Data into CSV format"
   ]
  },
  {
   "cell_type": "code",
   "execution_count": 10,
   "id": "b0cdee13",
   "metadata": {},
   "outputs": [],
   "source": [
    "table_df.to_csv('corona_dataset.csv')"
   ]
  },
  {
   "cell_type": "code",
   "execution_count": 11,
   "id": "72aff981",
   "metadata": {},
   "outputs": [],
   "source": [
    "data = table_df.copy()"
   ]
  },
  {
   "cell_type": "markdown",
   "id": "885e942b-6174-4b98-ab2b-fc39e10d6fe7",
   "metadata": {},
   "source": [
    "## Loading the saved CSV file"
   ]
  },
  {
   "cell_type": "code",
   "execution_count": 2,
   "id": "14916c86",
   "metadata": {},
   "outputs": [],
   "source": [
    "data = pd.read_csv(\"corona_dataset.csv\")"
   ]
  },
  {
   "cell_type": "code",
   "execution_count": 3,
   "id": "c22142e5",
   "metadata": {},
   "outputs": [
    {
     "data": {
      "text/html": [
       "<div>\n",
       "<style scoped>\n",
       "    .dataframe tbody tr th:only-of-type {\n",
       "        vertical-align: middle;\n",
       "    }\n",
       "\n",
       "    .dataframe tbody tr th {\n",
       "        vertical-align: top;\n",
       "    }\n",
       "\n",
       "    .dataframe thead th {\n",
       "        text-align: right;\n",
       "    }\n",
       "</style>\n",
       "<table border=\"1\" class=\"dataframe\">\n",
       "  <thead>\n",
       "    <tr style=\"text-align: right;\">\n",
       "      <th></th>\n",
       "      <th>Unnamed: 0</th>\n",
       "      <th>States Affected</th>\n",
       "      <th>No. of Cases (Lab Confirmed)</th>\n",
       "      <th>No. of Cases (on admission)</th>\n",
       "      <th>No. Discharged</th>\n",
       "      <th>No. of Deaths</th>\n",
       "    </tr>\n",
       "  </thead>\n",
       "  <tbody>\n",
       "    <tr>\n",
       "      <th>0</th>\n",
       "      <td>0</td>\n",
       "      <td>Lagos</td>\n",
       "      <td>104157</td>\n",
       "      <td>1014</td>\n",
       "      <td>102372</td>\n",
       "      <td>771</td>\n",
       "    </tr>\n",
       "    <tr>\n",
       "      <th>1</th>\n",
       "      <td>1</td>\n",
       "      <td>FCT</td>\n",
       "      <td>29504</td>\n",
       "      <td>15</td>\n",
       "      <td>29240</td>\n",
       "      <td>249</td>\n",
       "    </tr>\n",
       "    <tr>\n",
       "      <th>2</th>\n",
       "      <td>2</td>\n",
       "      <td>Rivers</td>\n",
       "      <td>18093</td>\n",
       "      <td>44</td>\n",
       "      <td>17894</td>\n",
       "      <td>155</td>\n",
       "    </tr>\n",
       "    <tr>\n",
       "      <th>3</th>\n",
       "      <td>3</td>\n",
       "      <td>Kaduna</td>\n",
       "      <td>11615</td>\n",
       "      <td>12</td>\n",
       "      <td>11514</td>\n",
       "      <td>89</td>\n",
       "    </tr>\n",
       "    <tr>\n",
       "      <th>4</th>\n",
       "      <td>4</td>\n",
       "      <td>Oyo</td>\n",
       "      <td>10336</td>\n",
       "      <td>2</td>\n",
       "      <td>10132</td>\n",
       "      <td>202</td>\n",
       "    </tr>\n",
       "    <tr>\n",
       "      <th>5</th>\n",
       "      <td>5</td>\n",
       "      <td>Plateau</td>\n",
       "      <td>10331</td>\n",
       "      <td>4</td>\n",
       "      <td>10252</td>\n",
       "      <td>75</td>\n",
       "    </tr>\n",
       "    <tr>\n",
       "      <th>6</th>\n",
       "      <td>6</td>\n",
       "      <td>Edo</td>\n",
       "      <td>7927</td>\n",
       "      <td>4</td>\n",
       "      <td>7601</td>\n",
       "      <td>322</td>\n",
       "    </tr>\n",
       "    <tr>\n",
       "      <th>7</th>\n",
       "      <td>7</td>\n",
       "      <td>Ogun</td>\n",
       "      <td>5810</td>\n",
       "      <td>11</td>\n",
       "      <td>5717</td>\n",
       "      <td>82</td>\n",
       "    </tr>\n",
       "    <tr>\n",
       "      <th>8</th>\n",
       "      <td>8</td>\n",
       "      <td>Delta</td>\n",
       "      <td>5808</td>\n",
       "      <td>526</td>\n",
       "      <td>5170</td>\n",
       "      <td>112</td>\n",
       "    </tr>\n",
       "    <tr>\n",
       "      <th>9</th>\n",
       "      <td>9</td>\n",
       "      <td>Kano</td>\n",
       "      <td>5344</td>\n",
       "      <td>97</td>\n",
       "      <td>5120</td>\n",
       "      <td>127</td>\n",
       "    </tr>\n",
       "    <tr>\n",
       "      <th>10</th>\n",
       "      <td>10</td>\n",
       "      <td>Ondo</td>\n",
       "      <td>5173</td>\n",
       "      <td>315</td>\n",
       "      <td>4749</td>\n",
       "      <td>109</td>\n",
       "    </tr>\n",
       "    <tr>\n",
       "      <th>11</th>\n",
       "      <td>11</td>\n",
       "      <td>Akwa Ibom</td>\n",
       "      <td>5010</td>\n",
       "      <td>6</td>\n",
       "      <td>4960</td>\n",
       "      <td>44</td>\n",
       "    </tr>\n",
       "    <tr>\n",
       "      <th>12</th>\n",
       "      <td>12</td>\n",
       "      <td>Kwara</td>\n",
       "      <td>4691</td>\n",
       "      <td>452</td>\n",
       "      <td>4175</td>\n",
       "      <td>64</td>\n",
       "    </tr>\n",
       "    <tr>\n",
       "      <th>13</th>\n",
       "      <td>13</td>\n",
       "      <td>Gombe</td>\n",
       "      <td>3313</td>\n",
       "      <td>8</td>\n",
       "      <td>3239</td>\n",
       "      <td>66</td>\n",
       "    </tr>\n",
       "    <tr>\n",
       "      <th>14</th>\n",
       "      <td>14</td>\n",
       "      <td>Osun</td>\n",
       "      <td>3311</td>\n",
       "      <td>29</td>\n",
       "      <td>3190</td>\n",
       "      <td>92</td>\n",
       "    </tr>\n",
       "    <tr>\n",
       "      <th>15</th>\n",
       "      <td>15</td>\n",
       "      <td>Enugu</td>\n",
       "      <td>2952</td>\n",
       "      <td>13</td>\n",
       "      <td>2910</td>\n",
       "      <td>29</td>\n",
       "    </tr>\n",
       "    <tr>\n",
       "      <th>16</th>\n",
       "      <td>16</td>\n",
       "      <td>Anambra</td>\n",
       "      <td>2825</td>\n",
       "      <td>46</td>\n",
       "      <td>2760</td>\n",
       "      <td>19</td>\n",
       "    </tr>\n",
       "    <tr>\n",
       "      <th>17</th>\n",
       "      <td>17</td>\n",
       "      <td>Nasarawa</td>\n",
       "      <td>2800</td>\n",
       "      <td>416</td>\n",
       "      <td>2345</td>\n",
       "      <td>39</td>\n",
       "    </tr>\n",
       "    <tr>\n",
       "      <th>18</th>\n",
       "      <td>18</td>\n",
       "      <td>Imo</td>\n",
       "      <td>2691</td>\n",
       "      <td>3</td>\n",
       "      <td>2630</td>\n",
       "      <td>58</td>\n",
       "    </tr>\n",
       "    <tr>\n",
       "      <th>19</th>\n",
       "      <td>19</td>\n",
       "      <td>Ekiti</td>\n",
       "      <td>2466</td>\n",
       "      <td>2</td>\n",
       "      <td>2436</td>\n",
       "      <td>28</td>\n",
       "    </tr>\n",
       "    <tr>\n",
       "      <th>20</th>\n",
       "      <td>20</td>\n",
       "      <td>Katsina</td>\n",
       "      <td>2418</td>\n",
       "      <td>0</td>\n",
       "      <td>2381</td>\n",
       "      <td>37</td>\n",
       "    </tr>\n",
       "    <tr>\n",
       "      <th>21</th>\n",
       "      <td>21</td>\n",
       "      <td>Benue</td>\n",
       "      <td>2317</td>\n",
       "      <td>88</td>\n",
       "      <td>2204</td>\n",
       "      <td>25</td>\n",
       "    </tr>\n",
       "    <tr>\n",
       "      <th>22</th>\n",
       "      <td>22</td>\n",
       "      <td>Abia</td>\n",
       "      <td>2261</td>\n",
       "      <td>-1</td>\n",
       "      <td>2228</td>\n",
       "      <td>34</td>\n",
       "    </tr>\n",
       "    <tr>\n",
       "      <th>23</th>\n",
       "      <td>23</td>\n",
       "      <td>Ebonyi</td>\n",
       "      <td>2064</td>\n",
       "      <td>28</td>\n",
       "      <td>2004</td>\n",
       "      <td>32</td>\n",
       "    </tr>\n",
       "    <tr>\n",
       "      <th>24</th>\n",
       "      <td>24</td>\n",
       "      <td>Bauchi</td>\n",
       "      <td>2017</td>\n",
       "      <td>0</td>\n",
       "      <td>1993</td>\n",
       "      <td>24</td>\n",
       "    </tr>\n",
       "    <tr>\n",
       "      <th>25</th>\n",
       "      <td>25</td>\n",
       "      <td>Borno</td>\n",
       "      <td>1629</td>\n",
       "      <td>5</td>\n",
       "      <td>1580</td>\n",
       "      <td>44</td>\n",
       "    </tr>\n",
       "    <tr>\n",
       "      <th>26</th>\n",
       "      <td>26</td>\n",
       "      <td>Taraba</td>\n",
       "      <td>1492</td>\n",
       "      <td>52</td>\n",
       "      <td>1406</td>\n",
       "      <td>34</td>\n",
       "    </tr>\n",
       "    <tr>\n",
       "      <th>27</th>\n",
       "      <td>27</td>\n",
       "      <td>Bayelsa</td>\n",
       "      <td>1368</td>\n",
       "      <td>5</td>\n",
       "      <td>1335</td>\n",
       "      <td>28</td>\n",
       "    </tr>\n",
       "    <tr>\n",
       "      <th>28</th>\n",
       "      <td>28</td>\n",
       "      <td>Adamawa</td>\n",
       "      <td>1312</td>\n",
       "      <td>134</td>\n",
       "      <td>1140</td>\n",
       "      <td>38</td>\n",
       "    </tr>\n",
       "    <tr>\n",
       "      <th>29</th>\n",
       "      <td>29</td>\n",
       "      <td>Niger</td>\n",
       "      <td>1183</td>\n",
       "      <td>165</td>\n",
       "      <td>998</td>\n",
       "      <td>20</td>\n",
       "    </tr>\n",
       "    <tr>\n",
       "      <th>30</th>\n",
       "      <td>30</td>\n",
       "      <td>Cross River</td>\n",
       "      <td>931</td>\n",
       "      <td>12</td>\n",
       "      <td>894</td>\n",
       "      <td>25</td>\n",
       "    </tr>\n",
       "    <tr>\n",
       "      <th>31</th>\n",
       "      <td>31</td>\n",
       "      <td>Sokoto</td>\n",
       "      <td>822</td>\n",
       "      <td>0</td>\n",
       "      <td>794</td>\n",
       "      <td>28</td>\n",
       "    </tr>\n",
       "    <tr>\n",
       "      <th>32</th>\n",
       "      <td>32</td>\n",
       "      <td>Jigawa</td>\n",
       "      <td>669</td>\n",
       "      <td>2</td>\n",
       "      <td>649</td>\n",
       "      <td>18</td>\n",
       "    </tr>\n",
       "    <tr>\n",
       "      <th>33</th>\n",
       "      <td>33</td>\n",
       "      <td>Yobe</td>\n",
       "      <td>638</td>\n",
       "      <td>4</td>\n",
       "      <td>625</td>\n",
       "      <td>9</td>\n",
       "    </tr>\n",
       "    <tr>\n",
       "      <th>34</th>\n",
       "      <td>34</td>\n",
       "      <td>Kebbi</td>\n",
       "      <td>480</td>\n",
       "      <td>10</td>\n",
       "      <td>454</td>\n",
       "      <td>16</td>\n",
       "    </tr>\n",
       "    <tr>\n",
       "      <th>35</th>\n",
       "      <td>35</td>\n",
       "      <td>Zamfara</td>\n",
       "      <td>375</td>\n",
       "      <td>0</td>\n",
       "      <td>366</td>\n",
       "      <td>9</td>\n",
       "    </tr>\n",
       "    <tr>\n",
       "      <th>36</th>\n",
       "      <td>36</td>\n",
       "      <td>Kogi</td>\n",
       "      <td>5</td>\n",
       "      <td>0</td>\n",
       "      <td>3</td>\n",
       "      <td>2</td>\n",
       "    </tr>\n",
       "  </tbody>\n",
       "</table>\n",
       "</div>"
      ],
      "text/plain": [
       "    Unnamed: 0 States Affected  No. of Cases (Lab Confirmed)  \\\n",
       "0            0           Lagos                        104157   \n",
       "1            1             FCT                         29504   \n",
       "2            2          Rivers                         18093   \n",
       "3            3          Kaduna                         11615   \n",
       "4            4             Oyo                         10336   \n",
       "5            5         Plateau                         10331   \n",
       "6            6             Edo                          7927   \n",
       "7            7            Ogun                          5810   \n",
       "8            8           Delta                          5808   \n",
       "9            9            Kano                          5344   \n",
       "10          10            Ondo                          5173   \n",
       "11          11       Akwa Ibom                          5010   \n",
       "12          12           Kwara                          4691   \n",
       "13          13           Gombe                          3313   \n",
       "14          14            Osun                          3311   \n",
       "15          15           Enugu                          2952   \n",
       "16          16         Anambra                          2825   \n",
       "17          17        Nasarawa                          2800   \n",
       "18          18             Imo                          2691   \n",
       "19          19           Ekiti                          2466   \n",
       "20          20         Katsina                          2418   \n",
       "21          21           Benue                          2317   \n",
       "22          22            Abia                          2261   \n",
       "23          23          Ebonyi                          2064   \n",
       "24          24          Bauchi                          2017   \n",
       "25          25           Borno                          1629   \n",
       "26          26          Taraba                          1492   \n",
       "27          27         Bayelsa                          1368   \n",
       "28          28         Adamawa                          1312   \n",
       "29          29           Niger                          1183   \n",
       "30          30     Cross River                           931   \n",
       "31          31          Sokoto                           822   \n",
       "32          32          Jigawa                           669   \n",
       "33          33            Yobe                           638   \n",
       "34          34           Kebbi                           480   \n",
       "35          35         Zamfara                           375   \n",
       "36          36            Kogi                             5   \n",
       "\n",
       "    No. of Cases (on admission)  No. Discharged  No. of Deaths  \n",
       "0                          1014          102372            771  \n",
       "1                            15           29240            249  \n",
       "2                            44           17894            155  \n",
       "3                            12           11514             89  \n",
       "4                             2           10132            202  \n",
       "5                             4           10252             75  \n",
       "6                             4            7601            322  \n",
       "7                            11            5717             82  \n",
       "8                           526            5170            112  \n",
       "9                            97            5120            127  \n",
       "10                          315            4749            109  \n",
       "11                            6            4960             44  \n",
       "12                          452            4175             64  \n",
       "13                            8            3239             66  \n",
       "14                           29            3190             92  \n",
       "15                           13            2910             29  \n",
       "16                           46            2760             19  \n",
       "17                          416            2345             39  \n",
       "18                            3            2630             58  \n",
       "19                            2            2436             28  \n",
       "20                            0            2381             37  \n",
       "21                           88            2204             25  \n",
       "22                           -1            2228             34  \n",
       "23                           28            2004             32  \n",
       "24                            0            1993             24  \n",
       "25                            5            1580             44  \n",
       "26                           52            1406             34  \n",
       "27                            5            1335             28  \n",
       "28                          134            1140             38  \n",
       "29                          165             998             20  \n",
       "30                           12             894             25  \n",
       "31                            0             794             28  \n",
       "32                            2             649             18  \n",
       "33                            4             625              9  \n",
       "34                           10             454             16  \n",
       "35                            0             366              9  \n",
       "36                            0               3              2  "
      ]
     },
     "execution_count": 3,
     "metadata": {},
     "output_type": "execute_result"
    }
   ],
   "source": [
    "data"
   ]
  },
  {
   "cell_type": "markdown",
   "id": "abef5f97-17cc-4dcf-b76e-e8f40efb22aa",
   "metadata": {},
   "source": [
    "## Exploratory Data Analysis"
   ]
  },
  {
   "cell_type": "code",
   "execution_count": 4,
   "id": "5d529dee",
   "metadata": {},
   "outputs": [],
   "source": [
    "data.drop([\"Unnamed: 0\"], axis=1, inplace=True)"
   ]
  },
  {
   "cell_type": "code",
   "execution_count": 5,
   "id": "57e7ca63",
   "metadata": {},
   "outputs": [
    {
     "data": {
      "text/plain": [
       "<AxesSubplot:>"
      ]
     },
     "execution_count": 5,
     "metadata": {},
     "output_type": "execute_result"
    },
    {
     "data": {
      "image/png": "[encoded data removed]",
      "text/plain": [
       "<Figure size 640x480 with 1 Axes>"
      ]
     },
     "metadata": {},
     "output_type": "display_data"
    }
   ],
   "source": [
    "data['No. of Cases (Lab Confirmed)'].plot()"
   ]
  },
  {
   "cell_type": "code",
   "execution_count": 6,
   "id": "87b68f54",
   "metadata": {},
   "outputs": [
    {
     "data": {
      "text/plain": [
       "<AxesSubplot:>"
      ]
     },
     "execution_count": 6,
     "metadata": {},
     "output_type": "execute_result"
    },
    {
     "data": {
      "image/png": "[encoded data removed]",
      "text/plain": [
       "<Figure size 640x480 with 1 Axes>"
      ]
     },
     "metadata": {},
     "output_type": "display_data"
    }
   ],
   "source": [
    "data['No. of Cases (on admission)'].plot()"
   ]
  },
  {
   "cell_type": "code",
   "execution_count": 7,
   "id": "5fbd6b6f",
   "metadata": {},
   "outputs": [
    {
     "data": {
      "text/plain": [
       "<AxesSubplot:>"
      ]
     },
     "execution_count": 7,
     "metadata": {},
     "output_type": "execute_result"
    },
    {
     "data": {
      "image/png": "[encoded data removed]",
      "text/plain": [
       "<Figure size 640x480 with 1 Axes>"
      ]
     },
     "metadata": {},
     "output_type": "display_data"
    }
   ],
   "source": [
    "data['No. of Deaths'].plot()"
   ]
  },
  {
   "cell_type": "markdown",
   "id": "26806c62-d85f-4ab7-a710-cd163a6f067e",
   "metadata": {},
   "source": [
    "## Finding the correlation of numerical features"
   ]
  },
  {
   "cell_type": "code",
   "execution_count": 8,
   "id": "0b803296",
   "metadata": {},
   "outputs": [
    {
     "data": {
      "text/html": [
       "<div>\n",
       "<style scoped>\n",
       "    .dataframe tbody tr th:only-of-type {\n",
       "        vertical-align: middle;\n",
       "    }\n",
       "\n",
       "    .dataframe tbody tr th {\n",
       "        vertical-align: top;\n",
       "    }\n",
       "\n",
       "    .dataframe thead th {\n",
       "        text-align: right;\n",
       "    }\n",
       "</style>\n",
       "<table border=\"1\" class=\"dataframe\">\n",
       "  <thead>\n",
       "    <tr style=\"text-align: right;\">\n",
       "      <th></th>\n",
       "      <th>No. of Cases (Lab Confirmed)</th>\n",
       "      <th>No. of Cases (on admission)</th>\n",
       "      <th>No. Discharged</th>\n",
       "      <th>No. of Deaths</th>\n",
       "    </tr>\n",
       "  </thead>\n",
       "  <tbody>\n",
       "    <tr>\n",
       "      <th>No. of Cases (Lab Confirmed)</th>\n",
       "      <td>1.000000</td>\n",
       "      <td>0.713329</td>\n",
       "      <td>0.999961</td>\n",
       "      <td>0.935736</td>\n",
       "    </tr>\n",
       "    <tr>\n",
       "      <th>No. of Cases (on admission)</th>\n",
       "      <td>0.713329</td>\n",
       "      <td>1.000000</td>\n",
       "      <td>0.707387</td>\n",
       "      <td>0.667568</td>\n",
       "    </tr>\n",
       "    <tr>\n",
       "      <th>No. Discharged</th>\n",
       "      <td>0.999961</td>\n",
       "      <td>0.707387</td>\n",
       "      <td>1.000000</td>\n",
       "      <td>0.934714</td>\n",
       "    </tr>\n",
       "    <tr>\n",
       "      <th>No. of Deaths</th>\n",
       "      <td>0.935736</td>\n",
       "      <td>0.667568</td>\n",
       "      <td>0.934714</td>\n",
       "      <td>1.000000</td>\n",
       "    </tr>\n",
       "  </tbody>\n",
       "</table>\n",
       "</div>"
      ],
      "text/plain": [
       "                              No. of Cases (Lab Confirmed)  \\\n",
       "No. of Cases (Lab Confirmed)                      1.000000   \n",
       "No. of Cases (on admission)                       0.713329   \n",
       "No. Discharged                                    0.999961   \n",
       "No. of Deaths                                     0.935736   \n",
       "\n",
       "                              No. of Cases (on admission)  No. Discharged  \\\n",
       "No. of Cases (Lab Confirmed)                     0.713329        0.999961   \n",
       "No. of Cases (on admission)                      1.000000        0.707387   \n",
       "No. Discharged                                   0.707387        1.000000   \n",
       "No. of Deaths                                    0.667568        0.934714   \n",
       "\n",
       "                              No. of Deaths  \n",
       "No. of Cases (Lab Confirmed)       0.935736  \n",
       "No. of Cases (on admission)        0.667568  \n",
       "No. Discharged                     0.934714  \n",
       "No. of Deaths                      1.000000  "
      ]
     },
     "execution_count": 8,
     "metadata": {},
     "output_type": "execute_result"
    }
   ],
   "source": [
    "data.corr()"
   ]
  },
  {
   "cell_type": "code",
   "execution_count": 9,
   "id": "625de60b",
   "metadata": {},
   "outputs": [
    {
     "name": "stdout",
     "output_type": "stream",
     "text": [
      "<class 'pandas.core.frame.DataFrame'>\n",
      "RangeIndex: 37 entries, 0 to 36\n",
      "Data columns (total 5 columns):\n",
      " #   Column                        Non-Null Count  Dtype \n",
      "---  ------                        --------------  ----- \n",
      " 0   States Affected               37 non-null     object\n",
      " 1   No. of Cases (Lab Confirmed)  37 non-null     int64 \n",
      " 2   No. of Cases (on admission)   37 non-null     int64 \n",
      " 3   No. Discharged                37 non-null     int64 \n",
      " 4   No. of Deaths                 37 non-null     int64 \n",
      "dtypes: int64(4), object(1)\n",
      "memory usage: 1.6+ KB\n"
     ]
    }
   ],
   "source": [
    "data.info()"
   ]
  },
  {
   "cell_type": "markdown",
   "id": "3689a5f9-e2ce-408e-bd78-9e30e278c9b6",
   "metadata": {},
   "source": [
    "## Finding the statistical relationship of the features"
   ]
  },
  {
   "cell_type": "code",
   "execution_count": 10,
   "id": "304df90c",
   "metadata": {},
   "outputs": [
    {
     "data": {
      "text/html": [
       "<div>\n",
       "<style scoped>\n",
       "    .dataframe tbody tr th:only-of-type {\n",
       "        vertical-align: middle;\n",
       "    }\n",
       "\n",
       "    .dataframe tbody tr th {\n",
       "        vertical-align: top;\n",
       "    }\n",
       "\n",
       "    .dataframe thead th {\n",
       "        text-align: right;\n",
       "    }\n",
       "</style>\n",
       "<table border=\"1\" class=\"dataframe\">\n",
       "  <thead>\n",
       "    <tr style=\"text-align: right;\">\n",
       "      <th></th>\n",
       "      <th>No. of Cases (Lab Confirmed)</th>\n",
       "      <th>No. of Cases (on admission)</th>\n",
       "      <th>No. Discharged</th>\n",
       "      <th>No. of Deaths</th>\n",
       "    </tr>\n",
       "  </thead>\n",
       "  <tbody>\n",
       "    <tr>\n",
       "      <th>count</th>\n",
       "      <td>37.000000</td>\n",
       "      <td>37.000000</td>\n",
       "      <td>37.000000</td>\n",
       "      <td>37.000000</td>\n",
       "    </tr>\n",
       "    <tr>\n",
       "      <th>mean</th>\n",
       "      <td>7192.918919</td>\n",
       "      <td>95.216216</td>\n",
       "      <td>7012.432432</td>\n",
       "      <td>85.270270</td>\n",
       "    </tr>\n",
       "    <tr>\n",
       "      <th>std</th>\n",
       "      <td>17328.947455</td>\n",
       "      <td>205.334975</td>\n",
       "      <td>17056.921740</td>\n",
       "      <td>134.897008</td>\n",
       "    </tr>\n",
       "    <tr>\n",
       "      <th>min</th>\n",
       "      <td>5.000000</td>\n",
       "      <td>-1.000000</td>\n",
       "      <td>3.000000</td>\n",
       "      <td>2.000000</td>\n",
       "    </tr>\n",
       "    <tr>\n",
       "      <th>25%</th>\n",
       "      <td>1368.000000</td>\n",
       "      <td>3.000000</td>\n",
       "      <td>1335.000000</td>\n",
       "      <td>25.000000</td>\n",
       "    </tr>\n",
       "    <tr>\n",
       "      <th>50%</th>\n",
       "      <td>2691.000000</td>\n",
       "      <td>11.000000</td>\n",
       "      <td>2436.000000</td>\n",
       "      <td>38.000000</td>\n",
       "    </tr>\n",
       "    <tr>\n",
       "      <th>75%</th>\n",
       "      <td>5344.000000</td>\n",
       "      <td>52.000000</td>\n",
       "      <td>5120.000000</td>\n",
       "      <td>89.000000</td>\n",
       "    </tr>\n",
       "    <tr>\n",
       "      <th>max</th>\n",
       "      <td>104157.000000</td>\n",
       "      <td>1014.000000</td>\n",
       "      <td>102372.000000</td>\n",
       "      <td>771.000000</td>\n",
       "    </tr>\n",
       "  </tbody>\n",
       "</table>\n",
       "</div>"
      ],
      "text/plain": [
       "       No. of Cases (Lab Confirmed)  No. of Cases (on admission)  \\\n",
       "count                     37.000000                    37.000000   \n",
       "mean                    7192.918919                    95.216216   \n",
       "std                    17328.947455                   205.334975   \n",
       "min                        5.000000                    -1.000000   \n",
       "25%                     1368.000000                     3.000000   \n",
       "50%                     2691.000000                    11.000000   \n",
       "75%                     5344.000000                    52.000000   \n",
       "max                   104157.000000                  1014.000000   \n",
       "\n",
       "       No. Discharged  No. of Deaths  \n",
       "count       37.000000      37.000000  \n",
       "mean      7012.432432      85.270270  \n",
       "std      17056.921740     134.897008  \n",
       "min          3.000000       2.000000  \n",
       "25%       1335.000000      25.000000  \n",
       "50%       2436.000000      38.000000  \n",
       "75%       5120.000000      89.000000  \n",
       "max     102372.000000     771.000000  "
      ]
     },
     "execution_count": 10,
     "metadata": {},
     "output_type": "execute_result"
    }
   ],
   "source": [
    "data.describe()"
   ]
  },
  {
   "cell_type": "markdown",
   "id": "2af4498d-4390-4968-8fba-639ab93f8c53",
   "metadata": {},
   "source": [
    "## Spliting the dataset into dependent and independent Variable"
   ]
  },
  {
   "cell_type": "code",
   "execution_count": 11,
   "id": "c44ed509",
   "metadata": {},
   "outputs": [],
   "source": [
    "X = data.iloc[:, 1:2].values\n",
    "y = data.iloc[:, -2].values"
   ]
  },
  {
   "cell_type": "code",
   "execution_count": 12,
   "id": "eb0f1e21",
   "metadata": {},
   "outputs": [],
   "source": [
    "y2= data.iloc[:, -1].values"
   ]
  },
  {
   "cell_type": "code",
   "execution_count": 13,
   "id": "df15ef71",
   "metadata": {},
   "outputs": [
    {
     "data": {
      "text/plain": [
       "array([[104157],\n",
       "       [ 29504],\n",
       "       [ 18093],\n",
       "       [ 11615],\n",
       "       [ 10336],\n",
       "       [ 10331],\n",
       "       [  7927],\n",
       "       [  5810],\n",
       "       [  5808],\n",
       "       [  5344],\n",
       "       [  5173],\n",
       "       [  5010],\n",
       "       [  4691],\n",
       "       [  3313],\n",
       "       [  3311],\n",
       "       [  2952],\n",
       "       [  2825],\n",
       "       [  2800],\n",
       "       [  2691],\n",
       "       [  2466],\n",
       "       [  2418],\n",
       "       [  2317],\n",
       "       [  2261],\n",
       "       [  2064],\n",
       "       [  2017],\n",
       "       [  1629],\n",
       "       [  1492],\n",
       "       [  1368],\n",
       "       [  1312],\n",
       "       [  1183],\n",
       "       [   931],\n",
       "       [   822],\n",
       "       [   669],\n",
       "       [   638],\n",
       "       [   480],\n",
       "       [   375],\n",
       "       [     5]])"
      ]
     },
     "execution_count": 13,
     "metadata": {},
     "output_type": "execute_result"
    }
   ],
   "source": [
    "X"
   ]
  },
  {
   "cell_type": "code",
   "execution_count": 14,
   "id": "5c28f9e5",
   "metadata": {},
   "outputs": [
    {
     "data": {
      "text/plain": [
       "array([102372,  29240,  17894,  11514,  10132,  10252,   7601,   5717,\n",
       "         5170,   5120,   4749,   4960,   4175,   3239,   3190,   2910,\n",
       "         2760,   2345,   2630,   2436,   2381,   2204,   2228,   2004,\n",
       "         1993,   1580,   1406,   1335,   1140,    998,    894,    794,\n",
       "          649,    625,    454,    366,      3])"
      ]
     },
     "execution_count": 14,
     "metadata": {},
     "output_type": "execute_result"
    }
   ],
   "source": [
    "y"
   ]
  },
  {
   "cell_type": "code",
   "execution_count": 15,
   "id": "1e46bb51",
   "metadata": {},
   "outputs": [
    {
     "data": {
      "text/plain": [
       "(37, 1)"
      ]
     },
     "execution_count": 15,
     "metadata": {},
     "output_type": "execute_result"
    }
   ],
   "source": [
    "X.shape"
   ]
  },
  {
   "cell_type": "markdown",
   "id": "f49af057-0bbd-4970-903a-30ec21e34f27",
   "metadata": {},
   "source": [
    "## Model Training"
   ]
  },
  {
   "cell_type": "code",
   "execution_count": 16,
   "id": "5299c6ae",
   "metadata": {},
   "outputs": [
    {
     "data": {
      "text/plain": [
       "LinearRegression()"
      ]
     },
     "execution_count": 16,
     "metadata": {},
     "output_type": "execute_result"
    }
   ],
   "source": [
    "# Training the Linear Regression model on the whole dataset\n",
    "from sklearn.linear_model import LinearRegression\n",
    "lin_reg = LinearRegression()\n",
    "lin_reg.fit(X, y)"
   ]
  },
  {
   "cell_type": "code",
   "execution_count": 17,
   "id": "7bb30928",
   "metadata": {},
   "outputs": [
    {
     "data": {
      "text/plain": [
       "LinearRegression()"
      ]
     },
     "execution_count": 17,
     "metadata": {},
     "output_type": "execute_result"
    }
   ],
   "source": [
    "# Training the Polynomial Regression model on the whole dataset\n",
    "from sklearn.preprocessing import PolynomialFeatures\n",
    "poly_reg = PolynomialFeatures(degree = 3)\n",
    "X_poly = poly_reg.fit_transform(X)\n",
    "lin_reg_2 = LinearRegression()\n",
    "lin_reg_2.fit(X_poly, y)"
   ]
  },
  {
   "cell_type": "markdown",
   "id": "817130ab-4339-4e53-afc0-6cc1d3bae8ca",
   "metadata": {},
   "source": [
    "## Generating the polynomial feature "
   ]
  },
  {
   "cell_type": "code",
   "execution_count": 18,
   "id": "e42e7c3e",
   "metadata": {},
   "outputs": [
    {
     "data": {
      "text/plain": [
       "array([[1.00000000e+00, 1.04157000e+05, 1.08486806e+10, 1.12996603e+15],\n",
       "       [1.00000000e+00, 2.95040000e+04, 8.70486016e+08, 2.56828194e+13],\n",
       "       [1.00000000e+00, 1.80930000e+04, 3.27356649e+08, 5.92286385e+12],\n",
       "       [1.00000000e+00, 1.16150000e+04, 1.34908225e+08, 1.56695903e+12],\n",
       "       [1.00000000e+00, 1.03360000e+04, 1.06832896e+08, 1.10422481e+12],\n",
       "       [1.00000000e+00, 1.03310000e+04, 1.06729561e+08, 1.10262309e+12],\n",
       "       [1.00000000e+00, 7.92700000e+03, 6.28373290e+07, 4.98111507e+11],\n",
       "       [1.00000000e+00, 5.81000000e+03, 3.37561000e+07, 1.96122941e+11],\n",
       "       [1.00000000e+00, 5.80800000e+03, 3.37328640e+07, 1.95920474e+11],\n",
       "       [1.00000000e+00, 5.34400000e+03, 2.85583360e+07, 1.52615748e+11],\n",
       "       [1.00000000e+00, 5.17300000e+03, 2.67599290e+07, 1.38429113e+11],\n",
       "       [1.00000000e+00, 5.01000000e+03, 2.51001000e+07, 1.25751501e+11],\n",
       "       [1.00000000e+00, 4.69100000e+03, 2.20054810e+07, 1.03227711e+11],\n",
       "       [1.00000000e+00, 3.31300000e+03, 1.09759690e+07, 3.63633853e+10],\n",
       "       [1.00000000e+00, 3.31100000e+03, 1.09627210e+07, 3.62975692e+10],\n",
       "       [1.00000000e+00, 2.95200000e+03, 8.71430400e+06, 2.57246254e+10],\n",
       "       [1.00000000e+00, 2.82500000e+03, 7.98062500e+06, 2.25452656e+10],\n",
       "       [1.00000000e+00, 2.80000000e+03, 7.84000000e+06, 2.19520000e+10],\n",
       "       [1.00000000e+00, 2.69100000e+03, 7.24148100e+06, 1.94868254e+10],\n",
       "       [1.00000000e+00, 2.46600000e+03, 6.08115600e+06, 1.49961307e+10],\n",
       "       [1.00000000e+00, 2.41800000e+03, 5.84672400e+06, 1.41373786e+10],\n",
       "       [1.00000000e+00, 2.31700000e+03, 5.36848900e+06, 1.24387890e+10],\n",
       "       [1.00000000e+00, 2.26100000e+03, 5.11212100e+06, 1.15585056e+10],\n",
       "       [1.00000000e+00, 2.06400000e+03, 4.26009600e+06, 8.79283814e+09],\n",
       "       [1.00000000e+00, 2.01700000e+03, 4.06828900e+06, 8.20573891e+09],\n",
       "       [1.00000000e+00, 1.62900000e+03, 2.65364100e+06, 4.32278119e+09],\n",
       "       [1.00000000e+00, 1.49200000e+03, 2.22606400e+06, 3.32128749e+09],\n",
       "       [1.00000000e+00, 1.36800000e+03, 1.87142400e+06, 2.56010803e+09],\n",
       "       [1.00000000e+00, 1.31200000e+03, 1.72134400e+06, 2.25840333e+09],\n",
       "       [1.00000000e+00, 1.18300000e+03, 1.39948900e+06, 1.65559549e+09],\n",
       "       [1.00000000e+00, 9.31000000e+02, 8.66761000e+05, 8.06954491e+08],\n",
       "       [1.00000000e+00, 8.22000000e+02, 6.75684000e+05, 5.55412248e+08],\n",
       "       [1.00000000e+00, 6.69000000e+02, 4.47561000e+05, 2.99418309e+08],\n",
       "       [1.00000000e+00, 6.38000000e+02, 4.07044000e+05, 2.59694072e+08],\n",
       "       [1.00000000e+00, 4.80000000e+02, 2.30400000e+05, 1.10592000e+08],\n",
       "       [1.00000000e+00, 3.75000000e+02, 1.40625000e+05, 5.27343750e+07],\n",
       "       [1.00000000e+00, 5.00000000e+00, 2.50000000e+01, 1.25000000e+02]])"
      ]
     },
     "execution_count": 18,
     "metadata": {},
     "output_type": "execute_result"
    }
   ],
   "source": [
    "X_poly\n"
   ]
  },
  {
   "cell_type": "code",
   "execution_count": 19,
   "id": "a50b266b",
   "metadata": {},
   "outputs": [
    {
     "data": {
      "text/plain": [
       "LinearRegression()"
      ]
     },
     "execution_count": 19,
     "metadata": {},
     "output_type": "execute_result"
    }
   ],
   "source": [
    "# Training the Linear Regression model on the whole dataset\n",
    "from sklearn.linear_model import LinearRegression\n",
    "lin_reg = LinearRegression()\n",
    "lin_reg.fit(X, y2)\n",
    "\n"
   ]
  },
  {
   "cell_type": "code",
   "execution_count": 20,
   "id": "8acb86b7",
   "metadata": {},
   "outputs": [
    {
     "data": {
      "text/plain": [
       "LinearRegression()"
      ]
     },
     "execution_count": 20,
     "metadata": {},
     "output_type": "execute_result"
    }
   ],
   "source": [
    "# Training the Polynomial Regression model on the whole dataset\n",
    "from sklearn.preprocessing import PolynomialFeatures\n",
    "poly_reg = PolynomialFeatures(degree = 3)\n",
    "X_poly = poly_reg.fit_transform(X)\n",
    "lin_reg_2 = LinearRegression()\n",
    "lin_reg_2.fit(X_poly, y2)"
   ]
  },
  {
   "cell_type": "markdown",
   "id": "5c713156-7895-4681-831e-da6c6cb66775",
   "metadata": {},
   "source": [
    "## modeling linear regression on the data"
   ]
  },
  {
   "cell_type": "code",
   "execution_count": 21,
   "id": "415d3d10",
   "metadata": {},
   "outputs": [
    {
     "data": {
      "image/png": "[encoded data removed]",
      "text/plain": [
       "<Figure size 640x480 with 1 Axes>"
      ]
     },
     "metadata": {},
     "output_type": "display_data"
    }
   ],
   "source": [
    "X = data.iloc[:, 1:2].values\n",
    "y2 = data.iloc[:, -1].values# Visualising the Linear Regression results\n",
    "plt.scatter(X, y2, color = 'red')\n",
    "plt.plot(X, lin_reg.predict(X), color = 'blue')\n",
    "plt.title('Covid-19 Prediction (Linear Regression)')\n",
    "plt.xlabel('Confirmed Cases')\n",
    "plt.ylabel('Discharged')\n",
    "plt.show()"
   ]
  },
  {
   "cell_type": "markdown",
   "id": "aa4242a3-2755-4e91-a1d2-b0025925fb1a",
   "metadata": {},
   "source": [
    "## Generating the polynomial curve of the model "
   ]
  },
  {
   "cell_type": "code",
   "execution_count": 22,
   "id": "2e1ad28b",
   "metadata": {},
   "outputs": [
    {
     "data": {
      "image/png": "[encoded data removed]",
      "text/plain": [
       "<Figure size 640x480 with 1 Axes>"
      ]
     },
     "metadata": {},
     "output_type": "display_data"
    }
   ],
   "source": [
    "# Visualising the Polynomial Regression results (for higher resolution and smoother curve)\n",
    "X_grid = np.arange(min(X), max(X), 0.01)\n",
    "X_grid = X_grid.reshape((len(X_grid), 1))\n",
    "plt.scatter(X, y2, color = 'red')\n",
    "plt.plot(X_grid, lin_reg_2.predict(poly_reg.fit_transform(X_grid)), color = 'blue')\n",
    "plt.title('Covid-19 Prediction (Polynomial Regression)')\n",
    "plt.xlabel('Confirmed Cases')\n",
    "plt.ylabel('Death')\n",
    "plt.show()"
   ]
  },
  {
   "cell_type": "code",
   "execution_count": 23,
   "id": "61364752",
   "metadata": {},
   "outputs": [
    {
     "data": {
      "text/plain": [
       "array([771.1936387])"
      ]
     },
     "execution_count": 23,
     "metadata": {},
     "output_type": "execute_result"
    }
   ],
   "source": [
    "# Predicting a new result with Polynomial Regression after converting predict variable to 2D array\n",
    "lin_reg_2.predict(poly_reg.fit_transform([[104157]]))"
   ]
  },
  {
   "cell_type": "code",
   "execution_count": 24,
   "id": "9851c8ef",
   "metadata": {},
   "outputs": [
    {
     "data": {
      "text/plain": [
       "array([791.57847104])"
      ]
     },
     "execution_count": 24,
     "metadata": {},
     "output_type": "execute_result"
    }
   ],
   "source": [
    "# Predicting a new result with Linear Regression\n",
    "lin_reg.predict([[104157]])"
   ]
  },
  {
   "cell_type": "code",
   "execution_count": 25,
   "id": "24d653e8",
   "metadata": {},
   "outputs": [],
   "source": [
    "import pickle"
   ]
  },
  {
   "cell_type": "code",
   "execution_count": 26,
   "id": "82243e26",
   "metadata": {},
   "outputs": [],
   "source": [
    "pickle.dump(lin_reg_2, open(\"model.pkl\", \"wb\"))"
   ]
  },
  {
   "cell_type": "code",
   "execution_count": 27,
   "id": "cf628ee3",
   "metadata": {},
   "outputs": [],
   "source": [
    "model = pickle.load(open(\"model.pkl\", \"rb\"))"
   ]
  },
  {
   "cell_type": "code",
   "execution_count": 28,
   "id": "8c0f27c9",
   "metadata": {},
   "outputs": [
    {
     "data": {
      "text/plain": [
       "LinearRegression()"
      ]
     },
     "execution_count": 28,
     "metadata": {},
     "output_type": "execute_result"
    }
   ],
   "source": [
    "model"
   ]
  },
  {
   "cell_type": "code",
   "execution_count": 29,
   "id": "33f4c635",
   "metadata": {},
   "outputs": [
    {
     "data": {
      "text/plain": [
       "array([771.1936387])"
      ]
     },
     "execution_count": 29,
     "metadata": {},
     "output_type": "execute_result"
    }
   ],
   "source": [
    "model.predict(poly_reg.fit_transform([[104157]]))"
   ]
  },
  {
   "cell_type": "code",
   "execution_count": 30,
   "id": "990c4efe",
   "metadata": {},
   "outputs": [
    {
     "data": {
      "text/plain": [
       "2.9708060139517727"
      ]
     },
     "execution_count": 30,
     "metadata": {},
     "output_type": "execute_result"
    }
   ],
   "source": [
    "lin_reg_2.intercept_"
   ]
  },
  {
   "cell_type": "code",
   "execution_count": 31,
   "id": "519f5d2e",
   "metadata": {},
   "outputs": [
    {
     "data": {
      "text/plain": [
       "array([ 0.00000000e+00,  1.89067952e-02, -4.90818294e-07,  3.64938288e-12])"
      ]
     },
     "execution_count": 31,
     "metadata": {},
     "output_type": "execute_result"
    }
   ],
   "source": [
    "lin_reg_2.coef_"
   ]
  },
  {
   "cell_type": "markdown",
   "id": "6592e133-4fb5-4b93-bff1-1c16701af8a8",
   "metadata": {},
   "source": [
    "## Evaluation metrics"
   ]
  },
  {
   "cell_type": "code",
   "execution_count": 32,
   "id": "2c6786af-208b-4f50-90df-4c19811b19c4",
   "metadata": {},
   "outputs": [
    {
     "data": {
      "text/plain": [
       "0.9008374916899184"
      ]
     },
     "execution_count": 32,
     "metadata": {},
     "output_type": "execute_result"
    }
   ],
   "source": [
    "lin_reg_2.score(X_poly, y2)"
   ]
  },
  {
   "cell_type": "code",
   "execution_count": null,
   "id": "34811832-2a93-4963-9989-2c0839a958a2",
   "metadata": {},
   "outputs": [],
   "source": []
  }
 ],
 "metadata": {
  "kernelspec": {
   "display_name": "Python 3 (ipykernel)",
   "language": "python",
   "name": "python3"
  },
  "language_info": {
   "codemirror_mode": {
    "name": "ipython",
    "version": 3
   },
   "file_extension": ".py",
   "mimetype": "text/x-python",
   "name": "python",
   "nbconvert_exporter": "python",
   "pygments_lexer": "ipython3",
   "version": "3.9.13"
  }
 },
 "nbformat": 4,
 "nbformat_minor": 5
}
